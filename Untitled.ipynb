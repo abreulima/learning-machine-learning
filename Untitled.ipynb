{
 "cells": [
  {
   "cell_type": "markdown",
   "id": "ffa87638-f026-4514-82f7-b85dc148c377",
   "metadata": {},
   "source": [
    "# Linear Regression\n",
    "\n",
    "Today we're going to understand the basic concepts of Linear Regression. \n",
    "Imagine that we have the following problem. "
   ]
  },
  {
   "cell_type": "markdown",
   "id": "9602d082-21d4-4f95-b59a-ee6c40b5c58c",
   "metadata": {},
   "source": [
    "### Problem\n",
    "\n",
    "We work for a company that deliver products and we want to calculate the cost of the shipment based on the distance between our storehouse and the client.\n",
    "\n",
    "Just be aware that in the real world, the cost of the shipment isn't solely based on the distance."
   ]
  },
  {
   "cell_type": "markdown",
   "id": "66808f9e-1d43-44b4-89f1-3a9a21ad3cb5",
   "metadata": {},
   "source": [
    "### Table\n",
    "Our dating is coming from a simple table that contains two columns, distance as cost."
   ]
  },
  {
   "cell_type": "code",
   "execution_count": 68,
   "id": "1b2b6d71-baa2-4047-9212-4bbe8a061953",
   "metadata": {},
   "outputs": [
    {
     "data": {
      "text/html": [
       "<div>\n",
       "<style scoped>\n",
       "    .dataframe tbody tr th:only-of-type {\n",
       "        vertical-align: middle;\n",
       "    }\n",
       "\n",
       "    .dataframe tbody tr th {\n",
       "        vertical-align: top;\n",
       "    }\n",
       "\n",
       "    .dataframe thead th {\n",
       "        text-align: right;\n",
       "    }\n",
       "</style>\n",
       "<table border=\"1\" class=\"dataframe\">\n",
       "  <thead>\n",
       "    <tr style=\"text-align: right;\">\n",
       "      <th></th>\n",
       "      <th>Distance</th>\n",
       "      <th>Cost</th>\n",
       "    </tr>\n",
       "  </thead>\n",
       "  <tbody>\n",
       "    <tr>\n",
       "      <th>0</th>\n",
       "      <td>2</td>\n",
       "      <td>1</td>\n",
       "    </tr>\n",
       "    <tr>\n",
       "      <th>1</th>\n",
       "      <td>5</td>\n",
       "      <td>3</td>\n",
       "    </tr>\n",
       "    <tr>\n",
       "      <th>2</th>\n",
       "      <td>10</td>\n",
       "      <td>4</td>\n",
       "    </tr>\n",
       "    <tr>\n",
       "      <th>3</th>\n",
       "      <td>7</td>\n",
       "      <td>4</td>\n",
       "    </tr>\n",
       "    <tr>\n",
       "      <th>4</th>\n",
       "      <td>14</td>\n",
       "      <td>8</td>\n",
       "    </tr>\n",
       "  </tbody>\n",
       "</table>\n",
       "</div>"
      ],
      "text/plain": [
       "   Distance  Cost\n",
       "0         2     1\n",
       "1         5     3\n",
       "2        10     4\n",
       "3         7     4\n",
       "4        14     8"
      ]
     },
     "execution_count": 68,
     "metadata": {},
     "output_type": "execute_result"
    }
   ],
   "source": [
    "import pandas as pd\n",
    "\n",
    "distance = pd.Series([2, 5, 10, 7, 14])\n",
    "cost = pd.Series([1, 3, 4,4, 8])\n",
    "\n",
    "table = {'Distance' : distance, 'Cost' : cost}\n",
    "df = pd.DataFrame(table)\n",
    "df"
   ]
  },
  {
   "cell_type": "markdown",
   "id": "04740dd4-6dab-41e2-bd1e-861994fc4a2b",
   "metadata": {},
   "source": [
    "### Graph\n",
    "\n",
    "Using the table we can make a scatter plot. Where the x axis will be the **Distance**, and the y axis will be the **Cost**."
   ]
  },
  {
   "cell_type": "code",
   "execution_count": 69,
   "id": "b65d171c-cc33-4914-a0ba-845d8ba9ecad",
   "metadata": {},
   "outputs": [
    {
     "data": {
      "text/plain": [
       "<AxesSubplot:xlabel='Distance', ylabel='Cost'>"
      ]
     },
     "execution_count": 69,
     "metadata": {},
     "output_type": "execute_result"
    },
    {
     "data": {
      "image/png": "[encoded data removed]",
      "text/plain": [
       "<Figure size 432x288 with 1 Axes>"
      ]
     },
     "metadata": {
      "needs_background": "light"
     },
     "output_type": "display_data"
    }
   ],
   "source": [
    "import seaborn as sns\n",
    "sns.scatterplot(data=df, x=\"Distance\", y=\"Cost\")"
   ]
  },
  {
   "cell_type": "markdown",
   "id": "99827e68-fd62-4a5b-b769-248799e2c141",
   "metadata": {},
   "source": [
    "### Linear Regression\n",
    "Using the position of our dots, we can trace a line, but we aren't interest in any line.\n",
    "We want the line that represents in the best well possible our data.\n",
    "\n",
    "The method we use to calculate that line is called **Linear Regresssion**. Here we won't explain how that line is created, but we'll pre-made tools to generate that line."
   ]
  },
  {
   "cell_type": "code",
   "execution_count": 70,
   "id": "37ccfd8a-64e6-4aca-8c88-ddc9df54c4b2",
   "metadata": {},
   "outputs": [
    {
     "data": {
      "image/png": "[encoded data removed]",
      "text/plain": [
       "<Figure size 432x288 with 1 Axes>"
      ]
     },
     "metadata": {
      "needs_background": "light"
     },
     "output_type": "display_data"
    }
   ],
   "source": [
    "import numpy as np\n",
    "import matplotlib.pyplot as plt\n",
    "from sklearn.linear_model import LinearRegression\n",
    "\n",
    "x = df.Distance.values.reshape(-1, 1)\n",
    "y = df.Cost.values\n",
    "\n",
    "model = LinearRegression().fit(x, y)\n",
    "\n",
    "eqd = f\"f(x) = x*{model.coef_[0]:.2f} + {model.intercept_:.2f}\"\n",
    "\n",
    "sns.scatterplot(data=df, x=\"Distance\", y=\"Cost\")\n",
    "plt.plot(x, model.predict(x), color='blue', linewidth=3, label=eqd)\n",
    " \n",
    "plt.legend()\n",
    "plt.show()\n"
   ]
  },
  {
   "cell_type": "markdown",
   "id": "47a5d552-c242-4948-860d-78a31cc4aad2",
   "metadata": {},
   "source": [
    "### Result\n",
    "We can see that our generate line isn't perfect and it doesn't hit the dots, but it's the best line (1st Degree) that we can achieve.\n",
    "\n",
    "Let's how it compares with the real result."
   ]
  },
  {
   "cell_type": "code",
   "execution_count": 71,
   "id": "bdd19cf2-ff48-410d-afaf-a1a3c83d7866",
   "metadata": {},
   "outputs": [
    {
     "data": {
      "text/html": [
       "<div>\n",
       "<style scoped>\n",
       "    .dataframe tbody tr th:only-of-type {\n",
       "        vertical-align: middle;\n",
       "    }\n",
       "\n",
       "    .dataframe tbody tr th {\n",
       "        vertical-align: top;\n",
       "    }\n",
       "\n",
       "    .dataframe thead th {\n",
       "        text-align: right;\n",
       "    }\n",
       "</style>\n",
       "<table border=\"1\" class=\"dataframe\">\n",
       "  <thead>\n",
       "    <tr style=\"text-align: right;\">\n",
       "      <th></th>\n",
       "      <th>Distance</th>\n",
       "      <th>Cost</th>\n",
       "      <th>Prediction</th>\n",
       "      <th>Error</th>\n",
       "    </tr>\n",
       "  </thead>\n",
       "  <tbody>\n",
       "    <tr>\n",
       "      <th>0</th>\n",
       "      <td>2</td>\n",
       "      <td>1</td>\n",
       "      <td>1.042254</td>\n",
       "      <td>0.042254</td>\n",
       "    </tr>\n",
       "    <tr>\n",
       "      <th>1</th>\n",
       "      <td>5</td>\n",
       "      <td>3</td>\n",
       "      <td>2.626761</td>\n",
       "      <td>-0.373239</td>\n",
       "    </tr>\n",
       "    <tr>\n",
       "      <th>2</th>\n",
       "      <td>10</td>\n",
       "      <td>4</td>\n",
       "      <td>5.267606</td>\n",
       "      <td>1.267606</td>\n",
       "    </tr>\n",
       "    <tr>\n",
       "      <th>3</th>\n",
       "      <td>7</td>\n",
       "      <td>4</td>\n",
       "      <td>3.683099</td>\n",
       "      <td>-0.316901</td>\n",
       "    </tr>\n",
       "    <tr>\n",
       "      <th>4</th>\n",
       "      <td>14</td>\n",
       "      <td>8</td>\n",
       "      <td>7.380282</td>\n",
       "      <td>-0.619718</td>\n",
       "    </tr>\n",
       "  </tbody>\n",
       "</table>\n",
       "</div>"
      ],
      "text/plain": [
       "   Distance  Cost  Prediction     Error\n",
       "0         2     1    1.042254  0.042254\n",
       "1         5     3    2.626761 -0.373239\n",
       "2        10     4    5.267606  1.267606\n",
       "3         7     4    3.683099 -0.316901\n",
       "4        14     8    7.380282 -0.619718"
      ]
     },
     "execution_count": 71,
     "metadata": {},
     "output_type": "execute_result"
    }
   ],
   "source": [
    "df['Prediction'] = model.predict(x)\n",
    "df['Error'] = df['Prediction'] - df['Cost']\n",
    "\n",
    "df"
   ]
  },
  {
   "cell_type": "markdown",
   "id": "b51d5755-703a-42e5-9be0-c36aa9c8d773",
   "metadata": {},
   "source": [
    "As you can see, it isn't perfect and we all always some error.\n",
    "But now we have a line that we can use to try to predict any cost, and all we need is a distance.\n",
    "\n",
    "We just need to replace **x** with our new distance, and we'll have a new cost."
   ]
  },
  {
   "cell_type": "code",
   "execution_count": 72,
   "id": "dd7c881e-fd4f-4a4d-a135-4382c14f8866",
   "metadata": {},
   "outputs": [
    {
     "data": {
      "text/plain": [
       "'f(x) = x*0.53 + -0.01'"
      ]
     },
     "execution_count": 72,
     "metadata": {},
     "output_type": "execute_result"
    }
   ],
   "source": [
    "eqd"
   ]
  },
  {
   "cell_type": "code",
   "execution_count": null,
   "id": "f9e51263-c34f-4c5e-aa5a-aba8a3c683af",
   "metadata": {},
   "outputs": [],
   "source": []
  }
 ],
 "metadata": {
  "kernelspec": {
   "display_name": "Python 3",
   "language": "python",
   "name": "python3"
  },
  "language_info": {
   "codemirror_mode": {
    "name": "ipython",
    "version": 3
   },
   "file_extension": ".py",
   "mimetype": "text/x-python",
   "name": "python",
   "nbconvert_exporter": "python",
   "pygments_lexer": "ipython3",
   "version": "3.9.2"
  }
 },
 "nbformat": 4,
 "nbformat_minor": 5
}
